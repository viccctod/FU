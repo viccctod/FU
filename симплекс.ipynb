{
  "nbformat": 4,
  "nbformat_minor": 0,
  "metadata": {
    "colab": {
      "name": "симплекс.ipynb",
      "provenance": [],
      "collapsed_sections": [],
      "include_colab_link": true
    },
    "kernelspec": {
      "name": "python3",
      "display_name": "Python 3"
    },
    "language_info": {
      "name": "python"
    }
  },
  "cells": [
    {
      "cell_type": "markdown",
      "metadata": {
        "id": "view-in-github",
        "colab_type": "text"
      },
      "source": [
        "<a href=\"https://colab.research.google.com/github/viccctod/FU/blob/main/%D1%81%D0%B8%D0%BC%D0%BF%D0%BB%D0%B5%D0%BA%D1%81.ipynb\" target=\"_parent\"><img src=\"https://colab.research.google.com/assets/colab-badge.svg\" alt=\"Open In Colab\"/></a>"
      ]
    },
    {
      "cell_type": "code",
      "execution_count": null,
      "metadata": {
        "colab": {
          "base_uri": "https://localhost:8080/"
        },
        "id": "wj6KL2G-BCT3",
        "outputId": "356b8495-2313-4f00-8012-8c3495773006"
      },
      "outputs": [
        {
          "output_type": "stream",
          "name": "stdout",
          "text": [
            "введите значения прибыли через пробел: -5 -8\n",
            "введите ограничения по запасам через пробел: 320 480 360\n",
            "введите количество видов сырья: 3\n",
            "введите количество видов продукции: 2\n",
            "вводите элементы матрицы через enter:\n",
            "4\n",
            "вводите элементы матрицы через enter:\n",
            "2\n",
            "вводите элементы матрицы через enter:\n",
            "2\n",
            "вводите элементы матрицы через enter:\n",
            "3\n",
            "вводите элементы матрицы через enter:\n",
            "1\n",
            "вводите элементы матрицы через enter:\n",
            "4\n",
            "[[4 2]\n",
            " [2 3]\n",
            " [1 4]]\n"
          ]
        },
        {
          "output_type": "execute_result",
          "data": {
            "text/plain": [
              "     con: array([], dtype=float64)\n",
              "     fun: -840.0\n",
              " message: 'Optimization terminated successfully.'\n",
              "     nit: 2\n",
              "   slack: array([  0., 160.,   0.])\n",
              "  status: 0\n",
              " success: True\n",
              "       x: array([40., 80.])"
            ]
          },
          "metadata": {},
          "execution_count": 6
        }
      ],
      "source": [
        "import pandas as pd\n",
        "from scipy.optimize import linprog\n",
        "import numpy as np\n",
        "\n",
        "profit = [] #создание списка со значениями прибыли\n",
        "for element in input('введите значения прибыли через пробел: ').split():\n",
        "    profit.append(int(element))\n",
        "\n",
        "ogran = [] #создание списка с ограничениями по запасам\n",
        "for element in input('введите ограничения по запасам через пробел: ').split():\n",
        "    ogran.append(int(element))\n",
        "\n",
        "#создание матрицы и её заполнение элементами через пользовательский ввод    \n",
        "n=int(input(\"введите количество видов сырья: \")) #определение количества строк матрицы\n",
        "m=int(input(\"введите количество видов продукции: \")) #определение количества столбцов матрицы\n",
        "a = [ [0] * m for i in range(n) ]\n",
        "for i in range (n):\n",
        "    for j in range(m):\n",
        "        print(\"введите элемент матрицы через enter:\")\n",
        "        a[i][j] = int(input())\n",
        "print(np.matrix(a)) #вывод матрицы\n",
        "\n",
        "\n",
        "               \n",
        "opt = linprog(c=profit, A_ub=a, b_ub=ogran,\n",
        "              method=\"revised simplex\")\n",
        "\n",
        "opt\n",
        "\n",
        "#linprog() возвращает структуру данных со следующими атрибутами:\n",
        "#.con – остатки ограничения-равенства;\n",
        "#.fun – оптимальное значение целевой функции\n",
        "#.message – словесный статус решения\n",
        "#.nit – количество итераций, необходимых для завершения расчета\n",
        "#.slack – значения дополнительных переменных – разниц между значениями левой и правой сторонами ограничений\n",
        "#.status – целое число от 0 до 4, отражающих результат решения: например, 0, когда было найдено оптимальное решение;\n",
        "#.success – логическое значение, показывающее, найдено ли оптимальное решение\n",
        "#.x – массив NumPy, содержащий оптимальные значения переменных решения"
      ]
    },
    {
      "cell_type": "code",
      "source": [
        " "
      ],
      "metadata": {
        "id": "HNR2rIj1m15b"
      },
      "execution_count": null,
      "outputs": []
    }
  ]
}